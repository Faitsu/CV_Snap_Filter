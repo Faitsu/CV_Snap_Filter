{
  "nbformat": 4,
  "nbformat_minor": 0,
  "metadata": {
    "colab": {
      "name": "CV_Final_Submission.ipynb",
      "provenance": [],
      "machine_shape": "hm",
      "background_execution": "on",
      "collapsed_sections": []
    },
    "kernelspec": {
      "name": "python3",
      "display_name": "Python 3"
    },
    "language_info": {
      "name": "python"
    },
    "accelerator": "GPU"
  },
  "cells": [
    {
      "cell_type": "code",
      "execution_count": 384,
      "metadata": {
        "colab": {
          "base_uri": "https://localhost:8080/"
        },
        "id": "Vfjvqn9c4Wnr",
        "outputId": "a01e3cbc-5950-4563-cd41-add3e934867a"
      },
      "outputs": [
        {
          "output_type": "stream",
          "name": "stdout",
          "text": [
            "fatal: destination path 'CV_Snap_Filter' already exists and is not an empty directory.\n"
          ]
        }
      ],
      "source": [
        "!git clone https://github.com/ssingh1997/CV_Snap_Filter.git"
      ]
    },
    {
      "cell_type": "markdown",
      "source": [
        "## Imports"
      ],
      "metadata": {
        "id": "moPADCQ--Xn8"
      }
    },
    {
      "cell_type": "code",
      "source": [
        "import zipfile\n",
        "import pandas as pd\n",
        "import numpy as np\n",
        "from tqdm import tqdm\n",
        "import matplotlib.pyplot as plt\n",
        "import cv2\n",
        "from PIL import Image\n",
        "import torch\n",
        "import torchvision.transforms as T\n",
        "import random\n",
        "import math\n",
        "import tensorflow as tf\n",
        "from tensorflow.keras import layers\n",
        "from tensorflow.keras.models import Sequential\n",
        "from tensorflow.keras.models import Model, load_model   # tensorflow.keras\n",
        "from tensorflow.keras.callbacks import ModelCheckpoint\n",
        "import numpy as np\n",
        "import matplotlib.pyplot as plt\n",
        "import pickle\n",
        "import os\n",
        "from glob import glob\n",
        "from tqdm import tqdm\n",
        "import keras\n",
        "\n",
        "%matplotlib inline"
      ],
      "metadata": {
        "id": "IwizIErs5z3a"
      },
      "execution_count": 385,
      "outputs": []
    },
    {
      "cell_type": "code",
      "source": [
        "#CHANGEABLE VAR: if you want to Train the model, set this pretrained var to False\n",
        "pretrained = True\n"
      ],
      "metadata": {
        "id": "v1pJTOIpmTZv"
      },
      "execution_count": 386,
      "outputs": []
    },
    {
      "cell_type": "code",
      "source": [
        "!gdown https://drive.google.com/uc?id=1uJsONs0wZ6KSQjcJvvldd5LKESKf8Sdq"
      ],
      "metadata": {
        "colab": {
          "base_uri": "https://localhost:8080/"
        },
        "id": "j8cG2B318P43",
        "outputId": "99663394-d4d8-4501-be51-3deffa218fbb"
      },
      "execution_count": 387,
      "outputs": [
        {
          "output_type": "stream",
          "name": "stdout",
          "text": [
            "Downloading...\n",
            "From: https://drive.google.com/uc?id=1uJsONs0wZ6KSQjcJvvldd5LKESKf8Sdq\n",
            "To: /content/Best_weights.hdf5\n",
            "100% 428M/428M [00:01<00:00, 229MB/s]\n"
          ]
        }
      ]
    },
    {
      "cell_type": "markdown",
      "source": [
        "## Data Imports"
      ],
      "metadata": {
        "id": "_YhrdKYN-bAe"
      }
    },
    {
      "cell_type": "code",
      "source": [
        "data_zip = './CV_Snap_Filter/facial-keypoints-detection.zip'\n",
        "with zipfile.ZipFile(data_zip, 'r') as zip_ref:\n",
        "    zip_ref.extractall('.')"
      ],
      "metadata": {
        "id": "wlyu-uFH580Z"
      },
      "execution_count": 388,
      "outputs": []
    },
    {
      "cell_type": "code",
      "source": [
        "training_zip = './training.zip'\n",
        "test_zip = './test.zip'\n",
        "\n",
        "with zipfile.ZipFile(training_zip, 'r') as zip_ref:\n",
        "    zip_ref.extractall('.')\n",
        "\n",
        "with zipfile.ZipFile(test_zip, 'r') as zip_ref:\n",
        "    zip_ref.extractall('.')\n",
        "\n",
        "train_data = pd.read_csv('training.csv')\n",
        "test_data = pd.read_csv('test.csv')\n",
        "lookup_id = pd.read_csv('IdLookupTable.csv')\n",
        "\n",
        "train_data.dropna(inplace=True)"
      ],
      "metadata": {
        "id": "hXVhlL7h6CXH"
      },
      "execution_count": 389,
      "outputs": []
    },
    {
      "cell_type": "code",
      "source": [
        "def create_images(data):\n",
        "  images = []\n",
        "  for i in range(0,data.shape[0]):\n",
        "      if i in data.index:\n",
        "        img = data['Image'][i].split(' ')\n",
        "        # print(len(img))\n",
        "        for i in range(len(img)):\n",
        "          if img[i] == '':\n",
        "            if i != 0 or i != len(img) - 1:\n",
        "              # print(i)\n",
        "              img[i] = (int(img[i-1]) + int(img[i+1])) / 2\n",
        "            elif i == 0:\n",
        "              img[i] = img[i+1]\n",
        "            else:\n",
        "              img[i] = img[i-1]\n",
        "        # print(img)\n",
        "        images.append(img)\n",
        "      else:\n",
        "        pass\n",
        "\n",
        "  return np.array(images, dtype='float')"
      ],
      "metadata": {
        "id": "lFwVY0qK6C4t"
      },
      "execution_count": 390,
      "outputs": []
    },
    {
      "cell_type": "code",
      "source": [
        "def create_labels(data):\n",
        "\n",
        "  labels_train = data.drop('Image',axis = 1)\n",
        "\n",
        "  labels = []\n",
        "  for i in range(0,len(labels_train)):\n",
        "      if i in data.index:\n",
        "          y = labels_train.iloc[i,:]\n",
        "          labels.append(y)\n",
        "\n",
        "  return np.array(labels, dtype = 'float')"
      ],
      "metadata": {
        "id": "HPbEg6Q38WrT"
      },
      "execution_count": 391,
      "outputs": []
    },
    {
      "cell_type": "code",
      "source": [
        "X_train = create_images(train_data)\n",
        "X_train = X_train.reshape(-1, 96, 96, 1)\n",
        "\n",
        "y_train = create_labels(train_data)\n",
        "\n",
        "X_test = create_images(test_data)\n",
        "X_test = X_test.reshape(-1, 96, 96, 1)\n",
        "\n",
        "y_test = create_labels(test_data)\n"
      ],
      "metadata": {
        "id": "668xI1et67Nd"
      },
      "execution_count": 392,
      "outputs": []
    },
    {
      "cell_type": "code",
      "source": [
        "y_test.shape"
      ],
      "metadata": {
        "colab": {
          "base_uri": "https://localhost:8080/"
        },
        "id": "vc-BzGKhBxKa",
        "outputId": "29e3e0df-798b-40f8-af61-7768c84711ad"
      },
      "execution_count": 393,
      "outputs": [
        {
          "output_type": "execute_result",
          "data": {
            "text/plain": [
              "(1783, 1)"
            ]
          },
          "metadata": {},
          "execution_count": 393
        }
      ]
    },
    {
      "cell_type": "code",
      "source": [
        "def get_landmarks(data):\n",
        "  landmarks_dict = {}\n",
        "  k=0\n",
        "  for i in tqdm(range(data.shape[0])):\n",
        "    if i in data.index:\n",
        "      landmarks_dict[k] = {\n",
        "          'left eye center': (data['left_eye_center_x'][i], data['left_eye_center_y'][i]),\n",
        "          'right eye center': (data['right_eye_center_x'][i], data['right_eye_center_y'][i]),\n",
        "\n",
        "          'left eye inner corner': (data['left_eye_inner_corner_x'][i], data['left_eye_inner_corner_y'][i]),\n",
        "          'left eye outer corner': (train_data['left_eye_outer_corner_x'][i], train_data['left_eye_outer_corner_y'][i]),\n",
        "\n",
        "          'right eye inner corner': (data['right_eye_inner_corner_x'][i], data['right_eye_inner_corner_y'][i]),\n",
        "          'right eye outer corner': (data['right_eye_outer_corner_x'][i], data['right_eye_outer_corner_y'][i]),\n",
        "\n",
        "          'left eyebrow inner end': (data['left_eyebrow_inner_end_x'][i], data['left_eyebrow_inner_end_y'][i]),\n",
        "          'left eyebrow outer end': (data['left_eyebrow_outer_end_x'][i], data['left_eyebrow_outer_end_y'][i]),\n",
        "\n",
        "          'right eyebrow inner end': (data['right_eyebrow_inner_end_x'][i], data['right_eyebrow_inner_end_y'][i]),\n",
        "          'right eyebrow outer end': (data['right_eyebrow_outer_end_x'][i], data['right_eyebrow_outer_end_y'][i]),\n",
        "\n",
        "          'nose tip': (data['nose_tip_x'][i], data['nose_tip_y'][i]),\n",
        "\n",
        "          'mouth left corner': (data['mouth_left_corner_x'][i], data['mouth_left_corner_y'][i]),\n",
        "          'mouth right corner': (data['mouth_right_corner_x'][i], data['mouth_right_corner_y'][i]),\n",
        "\n",
        "          'mouth center top lip': (data['mouth_center_top_lip_x'][i], data['mouth_center_top_lip_y'][i]),\n",
        "          'mouth center bottom lip': (data['mouth_center_bottom_lip_x'][i], data['mouth_center_bottom_lip_y'][i]),\n",
        "      }\n",
        "\n",
        "      k+=1\n",
        "      \n",
        "    else:\n",
        "      pass\n",
        "\n",
        "  return landmarks_dict"
      ],
      "metadata": {
        "id": "IKIiiJYH7dFf"
      },
      "execution_count": 394,
      "outputs": []
    },
    {
      "cell_type": "code",
      "source": [
        "landmarks_dict = get_landmarks(train_data)"
      ],
      "metadata": {
        "colab": {
          "base_uri": "https://localhost:8080/"
        },
        "id": "QlWGFe8t8MDo",
        "outputId": "1d4f65ef-3bbd-4b75-b69e-33edd14cf759"
      },
      "execution_count": 395,
      "outputs": [
        {
          "output_type": "stream",
          "name": "stderr",
          "text": [
            "100%|██████████| 2140/2140 [00:00<00:00, 5753.32it/s]\n"
          ]
        }
      ]
    },
    {
      "cell_type": "markdown",
      "source": [
        "## Data Augmentations"
      ],
      "metadata": {
        "id": "3ZmjF1_E-g9m"
      }
    },
    {
      "cell_type": "code",
      "source": [
        "#Rotation Helper for manual landmarking on face\n",
        "def rotation_helper(angle):\n",
        "    if(angle>=0 and angle <=90):\n",
        "        x=angle*(96/90)\n",
        "        if(angle>=0 and angle<=45):\n",
        "            y=-1*angle*(24/45)\n",
        "        else:\n",
        "            y=(angle-45)*(24/45)-24\n",
        "    elif(angle>=91 and angle<=180):\n",
        "        y=(angle-90)*(96/90)\n",
        "        if(angle>=91 and angle<=135):\n",
        "            x=(angle-90)*(24/45)+96\n",
        "        else:\n",
        "            x=-1*(angle-135)*(24/45)+120\n",
        "    elif(angle>=181 and angle<=270):\n",
        "        x=-1*(angle-180)*(96/90)+96\n",
        "        if(angle>=181 and angle<=225):\n",
        "            y=(angle-180)*(24/45)+96\n",
        "        else:\n",
        "            y=-1*(angle-225)*(24/45)+120\n",
        "    else:\n",
        "        y=-1*(angle-270)*(96/90)+96\n",
        "        if(angle>=271 and angle<=315):\n",
        "            x=-1*(angle-270)*(24/45)\n",
        "        else:\n",
        "            x=(angle-315)*(24/45)-24\n",
        "    return x,y"
      ],
      "metadata": {
        "id": "UHecVYnK8OsN"
      },
      "execution_count": 396,
      "outputs": []
    },
    {
      "cell_type": "markdown",
      "source": [
        "## Random Rotation and Scaling Transforms for augmenting images\n",
        "## Transformed Landmarks on the images Manually"
      ],
      "metadata": {
        "id": "96srppVJ-qSn"
      }
    },
    {
      "cell_type": "code",
      "source": [
        "def affine_transform(image,landmark):\n",
        "    rotation=random.randint(0,360)\n",
        "    translation_x=random.randint(1,5)\n",
        "    translation_y=random.randint(1,5)\n",
        "    scaling = 1\n",
        "#     print(rotation)\n",
        "#     print(translation_x)\n",
        "#     print(translation_y)\n",
        "#     print(scaling)\n",
        "    \n",
        "    new_img=T.functional.affine(image,angle=rotation,scale=scaling,shear=0,translate=[translation_x,translation_y])\n",
        "    delta_x,delta_y=rotation_helper(rotation)\n",
        "#     print(delta_x)\n",
        "#     print(delta_y)\n",
        "    new_landmark={}\n",
        "    rotation=rotation*(math.pi/180)\n",
        "    k=list(landmark.keys())\n",
        "    j=0\n",
        "    for i in list(landmark.values()):\n",
        "        new_x=i[0]*math.cos(rotation)-i[1]*math.sin(rotation)+translation_x+delta_x\n",
        "        new_y=i[0]*math.sin(rotation)+i[1]*math.cos(rotation)+translation_y+delta_y\n",
        "        v=(new_x,new_y)\n",
        "        key_dict=k[j]\n",
        "        new_landmark[key_dict]=v\n",
        "        j+=1\n",
        "    return new_img,new_landmark"
      ],
      "metadata": {
        "id": "R7mM9ypp-kOd"
      },
      "execution_count": 397,
      "outputs": []
    },
    {
      "cell_type": "code",
      "source": [
        "#Augmentation using Affine Transforms\n",
        "def data_augmentation_transform_affine(images,landmarks):\n",
        "    new_images=[]\n",
        "    k=len(landmarks_dict)\n",
        "    for i in range(images.shape[0]):\n",
        "        for j in range(2):\n",
        "            orig_img=Image.fromarray(images[i].reshape(96,96))\n",
        "            new_img,new_landmark=affine_transform(orig_img,landmarks[i])\n",
        "            new_images.append(np.array(new_img).reshape(96,96,1))\n",
        "            landmarks[k]=new_landmark\n",
        "            k+=1\n",
        "    return new_images,landmarks"
      ],
      "metadata": {
        "id": "JDR8L2vd-vVZ"
      },
      "execution_count": 398,
      "outputs": []
    },
    {
      "cell_type": "code",
      "source": [
        "new_images1,new_landmarks1=data_augmentation_transform_affine(X_train,landmarks_dict)"
      ],
      "metadata": {
        "id": "z5j7yJ_H-w4B"
      },
      "execution_count": 399,
      "outputs": []
    },
    {
      "cell_type": "markdown",
      "source": [
        "## Brightness and Sharpness Adjustment for augmenting Images"
      ],
      "metadata": {
        "id": "3WJg8bbb_AlL"
      }
    },
    {
      "cell_type": "code",
      "source": [
        "#Augmentation using Intensity Transforms\n",
        "def data_augmentation_transform_brightness(images,landmarks):\n",
        "    new_images=[]\n",
        "    k=len(landmarks_dict)\n",
        "    for i in range(images.shape[0]):\n",
        "        orig_img=Image.fromarray(images[i].reshape(96,96))\n",
        "        orig_img=orig_img.convert('RGB')\n",
        "        #new_img1=T.functional.autocontrast(orig_img)\n",
        "        jitter = T.ColorJitter(brightness=0.8)\n",
        "        new_img1=jitter(orig_img)\n",
        "        new_img2=T.functional.adjust_sharpness(orig_img,2)\n",
        "        new_img1=new_img1.convert('L')\n",
        "        new_img2=new_img2.convert('L')\n",
        "        new_images.append(np.array(new_img1).reshape(96,96,1))\n",
        "        landmarks[k]=landmarks[i]\n",
        "        k+=1\n",
        "        new_images.append(np.array(new_img2).reshape(96,96,1))\n",
        "        landmarks[k]=landmarks[i]\n",
        "        k+=1\n",
        "    return new_images,landmarks\n"
      ],
      "metadata": {
        "id": "Ctsi6XGB_F2m"
      },
      "execution_count": 400,
      "outputs": []
    },
    {
      "cell_type": "code",
      "source": [
        "new_images2,new_landmarks2=data_augmentation_transform_brightness(X_train,landmarks_dict)"
      ],
      "metadata": {
        "id": "Knit5pze_KM1"
      },
      "execution_count": 401,
      "outputs": []
    },
    {
      "cell_type": "code",
      "source": [
        "new_images1=np.array(new_images1)\n",
        "X_train=np.concatenate((X_train,new_images1))\n",
        "new_images2=np.array(new_images2)\n",
        "X_train=np.concatenate((X_train,new_images2))\n",
        "\n",
        "y_train = []\n",
        "for face in landmarks_dict:\n",
        "  features_lst = []\n",
        "  features_lst.extend(landmarks_dict[face]['left eye center'])\n",
        "  features_lst.extend(landmarks_dict[face]['right eye center'])\n",
        "  features_lst.extend(landmarks_dict[face]['left eye inner corner'])\n",
        "  features_lst.extend(landmarks_dict[face]['left eye outer corner'])\n",
        "  features_lst.extend(landmarks_dict[face]['right eye inner corner'])\n",
        "  features_lst.extend(landmarks_dict[face]['right eye outer corner'])\n",
        "  features_lst.extend(landmarks_dict[face]['left eyebrow inner end'])\n",
        "  features_lst.extend(landmarks_dict[face]['left eyebrow outer end'])\n",
        "  features_lst.extend(landmarks_dict[face]['right eyebrow inner end'])\n",
        "  features_lst.extend(landmarks_dict[face]['right eyebrow outer end'])\n",
        "  features_lst.extend(landmarks_dict[face]['nose tip'])\n",
        "  features_lst.extend(landmarks_dict[face]['mouth left corner'])\n",
        "  features_lst.extend(landmarks_dict[face]['mouth right corner'])\n",
        "  features_lst.extend(landmarks_dict[face]['mouth center top lip'])\n",
        "  features_lst.extend(landmarks_dict[face]['mouth center bottom lip'])\n",
        "  y_train.append(features_lst)\n",
        "\n",
        "y_train = np.array(y_train)\n"
      ],
      "metadata": {
        "id": "xCg3gOzt_fuq"
      },
      "execution_count": 402,
      "outputs": []
    },
    {
      "cell_type": "code",
      "source": [
        "X_train.shape, y_train.shape, X_test.shape, y_test.shape"
      ],
      "metadata": {
        "id": "3uGisckUAJ_K",
        "colab": {
          "base_uri": "https://localhost:8080/"
        },
        "outputId": "0e4697f7-bd0e-4a9d-d47b-52781e6b9a76"
      },
      "execution_count": 403,
      "outputs": [
        {
          "output_type": "execute_result",
          "data": {
            "text/plain": [
              "((10130, 96, 96, 1), (10130, 30), (1783, 96, 96, 1), (1783, 1))"
            ]
          },
          "metadata": {},
          "execution_count": 403
        }
      ]
    },
    {
      "cell_type": "code",
      "source": [
        "#Original Image in the intial training data\n",
        "plt.figure(figsize=(7, 7))\n",
        "plt.imshow(X_train[36].reshape(96,96),cmap='gray')\n",
        "\n",
        "xs = y_train[36][0::2]\n",
        "ys = y_train[36][1::2]\n",
        "plt.scatter(xs, ys, marker='x', color='red')\n",
        "plt.show()"
      ],
      "metadata": {
        "id": "MvrsD30zBROJ",
        "colab": {
          "base_uri": "https://localhost:8080/",
          "height": 430
        },
        "outputId": "05b380c9-d44e-4246-e6f1-999e66871576"
      },
      "execution_count": 404,
      "outputs": [
        {
          "output_type": "display_data",
          "data": {
            "text/plain": [
              "<Figure size 504x504 with 1 Axes>"
            ],
            "image/png": "[encoded data removed]"
          },
          "metadata": {
            "needs_background": "light"
          }
        }
      ]
    },
    {
      "cell_type": "code",
      "source": [
        "#Transformed image from the original image with landmarks transformed along with the image\n",
        "#Test for new affine transformed images\n",
        "#Checking whether landmarks are properly applied for the transformed images\n",
        "plt.figure(figsize=(7, 7))\n",
        "plt.imshow(X_train[2099].reshape(96,96),cmap='gray')\n",
        "\n",
        "xs = y_train[2099][0::2]\n",
        "ys = y_train[2099][1::2]\n",
        "plt.scatter(xs, ys, marker='x', color='red')\n",
        "plt.show()"
      ],
      "metadata": {
        "id": "vT_DzL9tIJ-g",
        "colab": {
          "base_uri": "https://localhost:8080/",
          "height": 430
        },
        "outputId": "8caf30bf-7fdc-46b9-b52c-e1142e51a6fb"
      },
      "execution_count": 405,
      "outputs": [
        {
          "output_type": "display_data",
          "data": {
            "text/plain": [
              "<Figure size 504x504 with 1 Axes>"
            ],
            "image/png": "[encoded data removed]"
          },
          "metadata": {
            "needs_background": "light"
          }
        }
      ]
    },
    {
      "cell_type": "code",
      "source": [
        "def get_model():\n",
        "  model_input = keras.Input((96, 96, 1))\n",
        "  res_net = layers.ZeroPadding2D((3, 3))(model_input)\n",
        "\n",
        "  res_net = layers.Conv2D(filters=64, kernel_size=7, strides=2, name='convBlock1')(res_net)\n",
        "  res_net = layers.BatchNormalization(axis=3, name='batchNorm1')(res_net)\n",
        "  res_net = layers.ReLU()(res_net)\n",
        "  res_net = layers.MaxPool2D(pool_size=3, strides=2)(res_net)\n",
        "\n",
        "\n",
        "  # FIRST RES BLOCK \n",
        "  res_net_copy1 = res_net\n",
        "\n",
        "  res_net = layers.Conv2D(filters=64, kernel_size=1, strides=1, name ='resBlock2ConvA')(res_net)\n",
        "  # res_net = layers.MaxPool2D(pool_size=2)(res_net)\n",
        "  res_net = layers.BatchNormalization(axis=3, name='batchNorm2ConvA')(res_net)\n",
        "  res_net = layers.ReLU()(res_net)\n",
        "\n",
        "  res_net = layers.Conv2D(filters=64, kernel_size=3, strides=1, padding='same', name ='resBlock2ConvB')(res_net)\n",
        "  res_net = layers.BatchNormalization(axis=3, name='batchNorm2ConvB')(res_net)\n",
        "  res_net = layers.ReLU()(res_net)\n",
        "\n",
        "  res_net = layers.Conv2D(filters=256, kernel_size=1, strides=1, padding='same', name ='resBlock2ConvC')(res_net)\n",
        "  res_net = layers.BatchNormalization(axis=3, name='batchNorm2ConvC')(res_net)\n",
        "\n",
        "  res_net_copy1 = layers.Conv2D(256, kernel_size=1, strides=1, name='resBlock2Copy')(res_net_copy1)\n",
        "  res_net_copy1 = layers.BatchNormalization(axis=3, name='batchNorm2Copy')(res_net_copy1)\n",
        "\n",
        "  res_net = layers.Add()([res_net, res_net_copy1])\n",
        "  res_net = layers.ReLU()(res_net)\n",
        "\n",
        "  res_net_copy1 = res_net\n",
        "\n",
        "  res_net = layers.Conv2D(filters=64, kernel_size=1, strides=1, name ='resBlock2IdentityConv1A')(res_net)\n",
        "  res_net = layers.BatchNormalization(axis=3, name='batchNorm2IdentityConv1A')(res_net)\n",
        "  res_net = layers.ReLU()(res_net)\n",
        "\n",
        "  res_net = layers.Conv2D(filters=64, kernel_size=3, strides=1, padding='same', name ='resBlock2IdentityConv1B')(res_net)\n",
        "  res_net = layers.BatchNormalization(axis=3, name='batchNorm2IdentityConv1B')(res_net)\n",
        "  res_net = layers.ReLU()(res_net)\n",
        "\n",
        "  res_net = layers.Conv2D(filters=256, kernel_size=1, strides=1, padding='same', name ='resBlock2IdentityConv1C')(res_net)\n",
        "  res_net = layers.BatchNormalization(axis=3, name='batchNorm2IdentityConv1C')(res_net)\n",
        "\n",
        "  res_net = layers.Add()([res_net, res_net_copy1])\n",
        "  res_net = layers.ReLU()(res_net)\n",
        "\n",
        "  res_net_copy1 = res_net\n",
        "\n",
        "  res_net = layers.Conv2D(filters=64, kernel_size=1, strides=1, name ='resBlock2IdentityConv2A')(res_net)\n",
        "  res_net = layers.BatchNormalization(axis=3, name='batchNorm2IdentityConv2A')(res_net)\n",
        "  res_net = layers.ReLU()(res_net)\n",
        "\n",
        "  res_net = layers.Conv2D(filters=64, kernel_size=3, strides=1, padding='same', name ='resBlock2IdentityConv2B')(res_net)\n",
        "  res_net = layers.BatchNormalization(axis=3, name='batchNorm2IdentityConv2B')(res_net)\n",
        "  res_net = layers.ReLU()(res_net)\n",
        "\n",
        "  res_net = layers.Conv2D(filters=256, kernel_size=1, strides=1, padding='same', name ='resBlock2IdentityConv2C')(res_net)\n",
        "  res_net = layers.BatchNormalization(axis=3, name='batchNorm2IdentityConv2C')(res_net)\n",
        "\n",
        "  res_net = layers.Add()([res_net, res_net_copy1])\n",
        "  res_net = layers.ReLU()(res_net)\n",
        "\n",
        "\n",
        "  # SECOND RES BLOCK\n",
        "  res_net_copy1 = res_net\n",
        "\n",
        "  res_net = layers.Conv2D(filters=128, kernel_size=1, strides=1, name ='resBlock3ConvA')(res_net)\n",
        "  # res_net = layers.MaxPool2D(pool_size=2)(res_net)\n",
        "  res_net = layers.BatchNormalization(axis=3, name='batchNorm3ConvA')(res_net)\n",
        "  res_net = layers.ReLU()(res_net)\n",
        "\n",
        "  res_net = layers.Conv2D(filters=128, kernel_size=3, strides=1, padding='same', name ='resBlock3ConvB')(res_net)\n",
        "  res_net = layers.BatchNormalization(axis=3, name='batchNorm3ConvB')(res_net)\n",
        "  res_net = layers.ReLU()(res_net)\n",
        "\n",
        "  res_net = layers.Conv2D(filters=512, kernel_size=1, strides=1, padding='same', name ='resBlock3ConvC')(res_net)\n",
        "  res_net = layers.BatchNormalization(axis=3, name='batchNorm3ConvC')(res_net)\n",
        "\n",
        "  res_net_copy1 = layers.Conv2D(512, kernel_size=1, strides=1, name='resBlock3Copy')(res_net_copy1)\n",
        "  res_net_copy1 = layers.BatchNormalization(axis=3, name='batchNorm3Copy')(res_net_copy1)\n",
        "\n",
        "  res_net = layers.Add()([res_net, res_net_copy1])\n",
        "  res_net = layers.ReLU()(res_net)\n",
        "\n",
        "  res_net_copy1 = res_net\n",
        "\n",
        "  res_net = layers.Conv2D(filters=128, kernel_size=1, strides=1, name ='resBlock3IdentityConv1A')(res_net)\n",
        "  res_net = layers.BatchNormalization(axis=3, name='batchNorm3IdentityConv1A')(res_net)\n",
        "  res_net = layers.ReLU()(res_net)\n",
        "\n",
        "  res_net = layers.Conv2D(filters=128, kernel_size=3, strides=1, padding='same', name ='resBlock3IdentityConv1B')(res_net)\n",
        "  res_net = layers.BatchNormalization(axis=3, name='batchNorm3IdentityConv1B')(res_net)\n",
        "  res_net = layers.ReLU()(res_net)\n",
        "\n",
        "  res_net = layers.Conv2D(filters=512, kernel_size=1, strides=1, padding='same', name ='resBlock3IdentityConv1C')(res_net)\n",
        "  res_net = layers.BatchNormalization(axis=3, name='batchNorm3IdentityConv1C')(res_net)\n",
        "\n",
        "  res_net = layers.Add()([res_net, res_net_copy1])\n",
        "  res_net = layers.ReLU()(res_net)\n",
        "\n",
        "  res_net_copy1 = res_net\n",
        "\n",
        "  res_net = layers.Conv2D(filters=128, kernel_size=1, strides=1, name ='resBlock3IdentityConv2A')(res_net)\n",
        "  res_net = layers.BatchNormalization(axis=3, name='batchNorm3IdentityConv2A')(res_net)\n",
        "  res_net = layers.ReLU()(res_net)\n",
        "\n",
        "  res_net = layers.Conv2D(filters=128, kernel_size=3, strides=1, padding='same', name ='resBlock3IdentityConv2B')(res_net)\n",
        "  res_net = layers.BatchNormalization(axis=3, name='batchNorm3IdentityConv2B')(res_net)\n",
        "  res_net = layers.ReLU()(res_net)\n",
        "\n",
        "  res_net = layers.Conv2D(filters=512, kernel_size=1, strides=1, padding='same', name ='resBlock3IdentityConv2C')(res_net)\n",
        "  res_net = layers.BatchNormalization(axis=3, name='batchNorm3IdentityConv2C')(res_net)\n",
        "\n",
        "  res_net = layers.Add()([res_net, res_net_copy1])\n",
        "  res_net = layers.ReLU()(res_net)\n",
        "\n",
        "  res_net_copy1 = res_net\n",
        "\n",
        "  res_net = layers.Conv2D(filters=128, kernel_size=1, strides=1, name ='resBlock3IdentityConv3A')(res_net)\n",
        "  res_net = layers.BatchNormalization(axis=3, name='batchNorm3IdentityConv3A')(res_net)\n",
        "  res_net = layers.ReLU()(res_net)\n",
        "\n",
        "  res_net = layers.Conv2D(filters=128, kernel_size=3, strides=1, padding='same', name ='resBlock3IdentityConv3B')(res_net)\n",
        "  res_net = layers.BatchNormalization(axis=3, name='batchNorm3IdentityConv3B')(res_net)\n",
        "  res_net = layers.ReLU()(res_net)\n",
        "\n",
        "  res_net = layers.Conv2D(filters=512, kernel_size=1, strides=1, padding='same', name ='resBlock3IdentityConv3C')(res_net)\n",
        "  res_net = layers.BatchNormalization(axis=3, name='batchNorm3IdentityConv3C')(res_net)\n",
        "\n",
        "  res_net = layers.Add()([res_net, res_net_copy1])\n",
        "  res_net = layers.ReLU()(res_net)\n",
        "\n",
        "  res_net_copy1 = res_net\n",
        "\n",
        "  res_net = layers.Conv2D(filters=256, kernel_size=1, strides=2, name ='resBlock4ConvA')(res_net)\n",
        "  # res_net = layers.MaxPool2D(pool_size=2)(res_net)\n",
        "  res_net = layers.BatchNormalization(axis=3, name='batchNorm4ConvA')(res_net)\n",
        "  res_net = layers.ReLU()(res_net)\n",
        "\n",
        "  res_net = layers.Conv2D(filters=256, kernel_size=3, strides=1, padding='same', name ='resBlock4ConvB')(res_net)\n",
        "  res_net = layers.BatchNormalization(axis=3, name='batchNorm4ConvB')(res_net)\n",
        "  res_net = layers.ReLU()(res_net)\n",
        "\n",
        "  res_net = layers.Conv2D(filters=1024, kernel_size=1, strides=1, padding='same', name ='resBlock4ConvC')(res_net)\n",
        "  res_net = layers.BatchNormalization(axis=3, name='batchNorm4ConvC')(res_net)\n",
        "\n",
        "  res_net_copy1 = layers.Conv2D(1024, kernel_size=1, strides=2, name='resBlock4Copy')(res_net_copy1)\n",
        "  res_net_copy1 = layers.BatchNormalization(axis=3, name='batchNorm4Copy')(res_net_copy1)\n",
        "\n",
        "  res_net = layers.Add()([res_net, res_net_copy1])\n",
        "  res_net = layers.ReLU()(res_net)\n",
        "\n",
        "  res_net_copy1 = res_net\n",
        "\n",
        "  res_net = layers.Conv2D(filters=256, kernel_size=1, strides=1, name ='resBlock4IdentityConv4A')(res_net)\n",
        "  res_net = layers.BatchNormalization(axis=3, name='batchNorm4IdentityConv4A')(res_net)\n",
        "  res_net = layers.ReLU()(res_net)\n",
        "\n",
        "  res_net = layers.Conv2D(filters=256, kernel_size=3, strides=1, padding='same', name ='resBlock4IdentityConv4B')(res_net)\n",
        "  res_net = layers.BatchNormalization(axis=3, name='batchNorm4IdentityConv4B')(res_net)\n",
        "  res_net = layers.ReLU()(res_net)\n",
        "\n",
        "  res_net = layers.Conv2D(filters=1024, kernel_size=1, strides=1, padding='same', name ='resBlock4IdentityConv4C')(res_net)\n",
        "  res_net = layers.BatchNormalization(axis=3, name='batchNorm4IdentityConv4C')(res_net)\n",
        "\n",
        "  res_net = layers.Add()([res_net, res_net_copy1])\n",
        "  res_net = layers.ReLU()(res_net)\n",
        "\n",
        "  res_net_copy1 = res_net\n",
        "\n",
        "  res_net = layers.Conv2D(filters=256, kernel_size=1, strides=1, name ='resBlock4IdentityConv5A')(res_net)\n",
        "  res_net = layers.BatchNormalization(axis=3, name='batchNorm4IdentityConv5A')(res_net)\n",
        "  res_net = layers.ReLU()(res_net)\n",
        "\n",
        "  res_net = layers.Conv2D(filters=256, kernel_size=3, strides=1, padding='same', name ='resBlock4IdentityConv5B')(res_net)\n",
        "  res_net = layers.BatchNormalization(axis=3, name='batchNorm4IdentityConv5B')(res_net)\n",
        "  res_net = layers.ReLU()(res_net)\n",
        "\n",
        "  res_net = layers.Conv2D(filters=1024, kernel_size=1, strides=1, padding='same', name ='resBlock4IdentityConv5C')(res_net)\n",
        "  res_net = layers.BatchNormalization(axis=3, name='batchNorm4IdentityConv5C')(res_net)\n",
        "\n",
        "  res_net = layers.Add()([res_net, res_net_copy1])\n",
        "  res_net = layers.ReLU()(res_net)\n",
        "\n",
        "  res_net_copy1 = res_net\n",
        "\n",
        "  res_net = layers.Conv2D(filters=256, kernel_size=1, strides=1, name ='resBlock4IdentityConv6A')(res_net)\n",
        "  res_net = layers.BatchNormalization(axis=3, name='batchNorm4IdentityConv6A')(res_net)\n",
        "  res_net = layers.ReLU()(res_net)\n",
        "\n",
        "  res_net = layers.Conv2D(filters=256, kernel_size=3, strides=1, padding='same', name ='resBlock4IdentityConv6B')(res_net)\n",
        "  res_net = layers.BatchNormalization(axis=3, name='batchNorm4IdentityConv6B')(res_net)\n",
        "  res_net = layers.ReLU()(res_net)\n",
        "\n",
        "  res_net = layers.Conv2D(filters=1024, kernel_size=1, strides=1, padding='same', name ='resBlock4IdentityConv6C')(res_net)\n",
        "  res_net = layers.BatchNormalization(axis=3, name='batchNorm4IdentityConv6C')(res_net)\n",
        "\n",
        "  res_net = layers.Add()([res_net, res_net_copy1])\n",
        "  res_net = layers.ReLU()(res_net)\n",
        "\n",
        "  res_net_copy1 = res_net\n",
        "\n",
        "  res_net = layers.Conv2D(filters=256, kernel_size=1, strides=1, name ='resBlock4IdentityConv7A')(res_net)\n",
        "  res_net = layers.BatchNormalization(axis=3, name='batchNorm4IdentityConv7A')(res_net)\n",
        "  res_net = layers.ReLU()(res_net)\n",
        "\n",
        "  res_net = layers.Conv2D(filters=1024, kernel_size=3, strides=1, padding='same', name ='resBlock4IdentityConv7B')(res_net)\n",
        "  res_net = layers.BatchNormalization(axis=3, name='batchNorm4IdentityConv7B')(res_net)\n",
        "  res_net = layers.ReLU()(res_net)\n",
        "\n",
        "  res_net = layers.Conv2D(filters=1024, kernel_size=1, strides=1, padding='same', name ='resBlock4IdentityConv7C')(res_net)\n",
        "  res_net = layers.BatchNormalization(axis=3, name='batchNorm4IdentityConv7C')(res_net)\n",
        "\n",
        "  res_net = layers.Add()([res_net, res_net_copy1])\n",
        "  res_net = layers.ReLU()(res_net)\n",
        "\n",
        "  res_net_copy1 = res_net\n",
        "\n",
        "  res_net = layers.Conv2D(filters=256, kernel_size=1, strides=1, name ='resBlock4IdentityConv8A')(res_net)\n",
        "  res_net = layers.BatchNormalization(axis=3, name='batchNorm4IdentityConv8A')(res_net)\n",
        "  res_net = layers.ReLU()(res_net)\n",
        "\n",
        "  res_net = layers.Conv2D(filters=256, kernel_size=3, strides=1, padding='same', name ='resBlock4IdentityConv8B')(res_net)\n",
        "  res_net = layers.BatchNormalization(axis=3, name='batchNorm4IdentityConv8B')(res_net)\n",
        "  res_net = layers.ReLU()(res_net)\n",
        "\n",
        "  res_net = layers.Conv2D(filters=1024, kernel_size=1, strides=1, padding='same', name ='resBlock4IdentityConv8C')(res_net)\n",
        "  res_net = layers.BatchNormalization(axis=3, name='batchNorm4IdentityConv8C')(res_net)\n",
        "\n",
        "  res_net = layers.Add()([res_net, res_net_copy1])\n",
        "  res_net = layers.ReLU()(res_net)\n",
        "\n",
        "  res_net_copy1 = res_net\n",
        "\n",
        "  res_net = layers.Conv2D(filters=512, kernel_size=1, strides=2, name ='resBlock5ConvA')(res_net)\n",
        "  # res_net = layers.MaxPool2D(pool_size=2)(res_net)\n",
        "  res_net = layers.BatchNormalization(axis=3, name='batchNorm5ConvA')(res_net)\n",
        "  res_net = layers.ReLU()(res_net)\n",
        "\n",
        "  res_net = layers.Conv2D(filters=512, kernel_size=3, strides=1, padding='same', name ='resBlock5ConvB')(res_net)\n",
        "  res_net = layers.BatchNormalization(axis=3, name='batchNorm5ConvB')(res_net)\n",
        "  res_net = layers.ReLU()(res_net)\n",
        "\n",
        "  res_net = layers.Conv2D(filters=2048, kernel_size=1, strides=1, padding='same', name ='resBlock5ConvC')(res_net)\n",
        "  res_net = layers.BatchNormalization(axis=3, name='batchNorm5ConvC')(res_net)\n",
        "\n",
        "  res_net_copy1 = layers.Conv2D(2048, kernel_size=1, strides=2, name='resBlock5Copy')(res_net_copy1)\n",
        "  res_net_copy1 = layers.BatchNormalization(axis=3, name='batchNorm5Copy')(res_net_copy1)\n",
        "\n",
        "  res_net = layers.Add()([res_net, res_net_copy1])\n",
        "  res_net = layers.ReLU()(res_net)\n",
        "\n",
        "  res_net_copy1 = res_net\n",
        "\n",
        "  res_net = layers.Conv2D(filters=512, kernel_size=1, strides=1, name ='resBlock5IdentityConv9A')(res_net)\n",
        "  res_net = layers.BatchNormalization(axis=3, name='batchNorm5IdentityConv9A')(res_net)\n",
        "  res_net = layers.ReLU()(res_net)\n",
        "\n",
        "  res_net = layers.Conv2D(filters=512, kernel_size=3, strides=1, padding='same', name ='resBlock5IdentityConv9B')(res_net)\n",
        "  res_net = layers.BatchNormalization(axis=3, name='batchNorm5IdentityConv9B')(res_net)\n",
        "  res_net = layers.ReLU()(res_net)\n",
        "\n",
        "  res_net = layers.Conv2D(filters=2048, kernel_size=1, strides=1, padding='same', name ='resBlock5IdentityConv9C')(res_net)\n",
        "  res_net = layers.BatchNormalization(axis=3, name='batchNorm5IdentityConv9C')(res_net)\n",
        "\n",
        "  res_net = layers.Add()([res_net, res_net_copy1])\n",
        "  res_net = layers.ReLU()(res_net)\n",
        "\n",
        "  res_net_copy1 = res_net\n",
        "\n",
        "  res_net = layers.Conv2D(filters=512, kernel_size=1, strides=1, name ='resBlock5IdentityConv10A')(res_net)\n",
        "  res_net = layers.BatchNormalization(axis=3, name='batchNorm5IdentityConv10A')(res_net)\n",
        "  res_net = layers.ReLU()(res_net)\n",
        "\n",
        "  res_net = layers.Conv2D(filters=512, kernel_size=3, strides=1, padding='same', name ='resBlock5IdentityConv10B')(res_net)\n",
        "  res_net = layers.BatchNormalization(axis=3, name='batchNorm5IdentityConv10B')(res_net)\n",
        "  res_net = layers.ReLU()(res_net)\n",
        "\n",
        "  res_net = layers.Conv2D(filters=2048, kernel_size=1, strides=1, padding='same', name ='resBlock5IdentityConv10C')(res_net)\n",
        "  res_net = layers.BatchNormalization(axis=3, name='batchNorm5IdentityConv10C')(res_net)\n",
        "\n",
        "  res_net = layers.AveragePooling2D(pool_size=2, name='AveragePooling')(res_net)\n",
        "  res_net = layers.Flatten()(res_net)\n",
        "\n",
        "\n",
        "  res_net = layers.Dense(512)(res_net)\n",
        "  res_net = layers.ReLU()(res_net)\n",
        "  #res_net = layers.Dropout(0.2)(res_net)\n",
        "\n",
        "\n",
        "  res_net = layers.Dense(30)(res_net)\n",
        "  res_net = layers.ReLU()(res_net)\n",
        "\n",
        "  res_net_model = Model(model_input, res_net)\n",
        "  print(res_net_model.summary())\n",
        "  return res_net_model\n",
        "\n"
      ],
      "metadata": {
        "id": "nO-QtWCFIMiV"
      },
      "execution_count": 406,
      "outputs": []
    },
    {
      "cell_type": "code",
      "source": [
        "res_net50 = get_model()"
      ],
      "metadata": {
        "id": "cdVACOGuJaD4",
        "colab": {
          "base_uri": "https://localhost:8080/"
        },
        "outputId": "5657b54e-8401-4c97-82cb-634dfb1b5bc7"
      },
      "execution_count": 407,
      "outputs": [
        {
          "output_type": "stream",
          "name": "stdout",
          "text": [
            "Model: \"model_8\"\n",
            "__________________________________________________________________________________________________\n",
            " Layer (type)                   Output Shape         Param #     Connected to                     \n",
            "==================================================================================================\n",
            " input_9 (InputLayer)           [(None, 96, 96, 1)]  0           []                               \n",
            "                                                                                                  \n",
            " zero_padding2d_8 (ZeroPadding2  (None, 102, 102, 1)  0          ['input_9[0][0]']                \n",
            " D)                                                                                               \n",
            "                                                                                                  \n",
            " convBlock1 (Conv2D)            (None, 48, 48, 64)   3200        ['zero_padding2d_8[0][0]']       \n",
            "                                                                                                  \n",
            " batchNorm1 (BatchNormalization  (None, 48, 48, 64)  256         ['convBlock1[0][0]']             \n",
            " )                                                                                                \n",
            "                                                                                                  \n",
            " re_lu_400 (ReLU)               (None, 48, 48, 64)   0           ['batchNorm1[0][0]']             \n",
            "                                                                                                  \n",
            " max_pooling2d_8 (MaxPooling2D)  (None, 23, 23, 64)  0           ['re_lu_400[0][0]']              \n",
            "                                                                                                  \n",
            " resBlock2ConvA (Conv2D)        (None, 23, 23, 64)   4160        ['max_pooling2d_8[0][0]']        \n",
            "                                                                                                  \n",
            " batchNorm2ConvA (BatchNormaliz  (None, 23, 23, 64)  256         ['resBlock2ConvA[0][0]']         \n",
            " ation)                                                                                           \n",
            "                                                                                                  \n",
            " re_lu_401 (ReLU)               (None, 23, 23, 64)   0           ['batchNorm2ConvA[0][0]']        \n",
            "                                                                                                  \n",
            " resBlock2ConvB (Conv2D)        (None, 23, 23, 64)   36928       ['re_lu_401[0][0]']              \n",
            "                                                                                                  \n",
            " batchNorm2ConvB (BatchNormaliz  (None, 23, 23, 64)  256         ['resBlock2ConvB[0][0]']         \n",
            " ation)                                                                                           \n",
            "                                                                                                  \n",
            " re_lu_402 (ReLU)               (None, 23, 23, 64)   0           ['batchNorm2ConvB[0][0]']        \n",
            "                                                                                                  \n",
            " resBlock2ConvC (Conv2D)        (None, 23, 23, 256)  16640       ['re_lu_402[0][0]']              \n",
            "                                                                                                  \n",
            " resBlock2Copy (Conv2D)         (None, 23, 23, 256)  16640       ['max_pooling2d_8[0][0]']        \n",
            "                                                                                                  \n",
            " batchNorm2ConvC (BatchNormaliz  (None, 23, 23, 256)  1024       ['resBlock2ConvC[0][0]']         \n",
            " ation)                                                                                           \n",
            "                                                                                                  \n",
            " batchNorm2Copy (BatchNormaliza  (None, 23, 23, 256)  1024       ['resBlock2Copy[0][0]']          \n",
            " tion)                                                                                            \n",
            "                                                                                                  \n",
            " add_120 (Add)                  (None, 23, 23, 256)  0           ['batchNorm2ConvC[0][0]',        \n",
            "                                                                  'batchNorm2Copy[0][0]']         \n",
            "                                                                                                  \n",
            " re_lu_403 (ReLU)               (None, 23, 23, 256)  0           ['add_120[0][0]']                \n",
            "                                                                                                  \n",
            " resBlock2IdentityConv1A (Conv2  (None, 23, 23, 64)  16448       ['re_lu_403[0][0]']              \n",
            " D)                                                                                               \n",
            "                                                                                                  \n",
            " batchNorm2IdentityConv1A (Batc  (None, 23, 23, 64)  256         ['resBlock2IdentityConv1A[0][0]']\n",
            " hNormalization)                                                                                  \n",
            "                                                                                                  \n",
            " re_lu_404 (ReLU)               (None, 23, 23, 64)   0           ['batchNorm2IdentityConv1A[0][0]'\n",
            "                                                                 ]                                \n",
            "                                                                                                  \n",
            " resBlock2IdentityConv1B (Conv2  (None, 23, 23, 64)  36928       ['re_lu_404[0][0]']              \n",
            " D)                                                                                               \n",
            "                                                                                                  \n",
            " batchNorm2IdentityConv1B (Batc  (None, 23, 23, 64)  256         ['resBlock2IdentityConv1B[0][0]']\n",
            " hNormalization)                                                                                  \n",
            "                                                                                                  \n",
            " re_lu_405 (ReLU)               (None, 23, 23, 64)   0           ['batchNorm2IdentityConv1B[0][0]'\n",
            "                                                                 ]                                \n",
            "                                                                                                  \n",
            " resBlock2IdentityConv1C (Conv2  (None, 23, 23, 256)  16640      ['re_lu_405[0][0]']              \n",
            " D)                                                                                               \n",
            "                                                                                                  \n",
            " batchNorm2IdentityConv1C (Batc  (None, 23, 23, 256)  1024       ['resBlock2IdentityConv1C[0][0]']\n",
            " hNormalization)                                                                                  \n",
            "                                                                                                  \n",
            " add_121 (Add)                  (None, 23, 23, 256)  0           ['batchNorm2IdentityConv1C[0][0]'\n",
            "                                                                 , 're_lu_403[0][0]']             \n",
            "                                                                                                  \n",
            " re_lu_406 (ReLU)               (None, 23, 23, 256)  0           ['add_121[0][0]']                \n",
            "                                                                                                  \n",
            " resBlock2IdentityConv2A (Conv2  (None, 23, 23, 64)  16448       ['re_lu_406[0][0]']              \n",
            " D)                                                                                               \n",
            "                                                                                                  \n",
            " batchNorm2IdentityConv2A (Batc  (None, 23, 23, 64)  256         ['resBlock2IdentityConv2A[0][0]']\n",
            " hNormalization)                                                                                  \n",
            "                                                                                                  \n",
            " re_lu_407 (ReLU)               (None, 23, 23, 64)   0           ['batchNorm2IdentityConv2A[0][0]'\n",
            "                                                                 ]                                \n",
            "                                                                                                  \n",
            " resBlock2IdentityConv2B (Conv2  (None, 23, 23, 64)  36928       ['re_lu_407[0][0]']              \n",
            " D)                                                                                               \n",
            "                                                                                                  \n",
            " batchNorm2IdentityConv2B (Batc  (None, 23, 23, 64)  256         ['resBlock2IdentityConv2B[0][0]']\n",
            " hNormalization)                                                                                  \n",
            "                                                                                                  \n",
            " re_lu_408 (ReLU)               (None, 23, 23, 64)   0           ['batchNorm2IdentityConv2B[0][0]'\n",
            "                                                                 ]                                \n",
            "                                                                                                  \n",
            " resBlock2IdentityConv2C (Conv2  (None, 23, 23, 256)  16640      ['re_lu_408[0][0]']              \n",
            " D)                                                                                               \n",
            "                                                                                                  \n",
            " batchNorm2IdentityConv2C (Batc  (None, 23, 23, 256)  1024       ['resBlock2IdentityConv2C[0][0]']\n",
            " hNormalization)                                                                                  \n",
            "                                                                                                  \n",
            " add_122 (Add)                  (None, 23, 23, 256)  0           ['batchNorm2IdentityConv2C[0][0]'\n",
            "                                                                 , 're_lu_406[0][0]']             \n",
            "                                                                                                  \n",
            " re_lu_409 (ReLU)               (None, 23, 23, 256)  0           ['add_122[0][0]']                \n",
            "                                                                                                  \n",
            " resBlock3ConvA (Conv2D)        (None, 23, 23, 128)  32896       ['re_lu_409[0][0]']              \n",
            "                                                                                                  \n",
            " batchNorm3ConvA (BatchNormaliz  (None, 23, 23, 128)  512        ['resBlock3ConvA[0][0]']         \n",
            " ation)                                                                                           \n",
            "                                                                                                  \n",
            " re_lu_410 (ReLU)               (None, 23, 23, 128)  0           ['batchNorm3ConvA[0][0]']        \n",
            "                                                                                                  \n",
            " resBlock3ConvB (Conv2D)        (None, 23, 23, 128)  147584      ['re_lu_410[0][0]']              \n",
            "                                                                                                  \n",
            " batchNorm3ConvB (BatchNormaliz  (None, 23, 23, 128)  512        ['resBlock3ConvB[0][0]']         \n",
            " ation)                                                                                           \n",
            "                                                                                                  \n",
            " re_lu_411 (ReLU)               (None, 23, 23, 128)  0           ['batchNorm3ConvB[0][0]']        \n",
            "                                                                                                  \n",
            " resBlock3ConvC (Conv2D)        (None, 23, 23, 512)  66048       ['re_lu_411[0][0]']              \n",
            "                                                                                                  \n",
            " resBlock3Copy (Conv2D)         (None, 23, 23, 512)  131584      ['re_lu_409[0][0]']              \n",
            "                                                                                                  \n",
            " batchNorm3ConvC (BatchNormaliz  (None, 23, 23, 512)  2048       ['resBlock3ConvC[0][0]']         \n",
            " ation)                                                                                           \n",
            "                                                                                                  \n",
            " batchNorm3Copy (BatchNormaliza  (None, 23, 23, 512)  2048       ['resBlock3Copy[0][0]']          \n",
            " tion)                                                                                            \n",
            "                                                                                                  \n",
            " add_123 (Add)                  (None, 23, 23, 512)  0           ['batchNorm3ConvC[0][0]',        \n",
            "                                                                  'batchNorm3Copy[0][0]']         \n",
            "                                                                                                  \n",
            " re_lu_412 (ReLU)               (None, 23, 23, 512)  0           ['add_123[0][0]']                \n",
            "                                                                                                  \n",
            " resBlock3IdentityConv1A (Conv2  (None, 23, 23, 128)  65664      ['re_lu_412[0][0]']              \n",
            " D)                                                                                               \n",
            "                                                                                                  \n",
            " batchNorm3IdentityConv1A (Batc  (None, 23, 23, 128)  512        ['resBlock3IdentityConv1A[0][0]']\n",
            " hNormalization)                                                                                  \n",
            "                                                                                                  \n",
            " re_lu_413 (ReLU)               (None, 23, 23, 128)  0           ['batchNorm3IdentityConv1A[0][0]'\n",
            "                                                                 ]                                \n",
            "                                                                                                  \n",
            " resBlock3IdentityConv1B (Conv2  (None, 23, 23, 128)  147584     ['re_lu_413[0][0]']              \n",
            " D)                                                                                               \n",
            "                                                                                                  \n",
            " batchNorm3IdentityConv1B (Batc  (None, 23, 23, 128)  512        ['resBlock3IdentityConv1B[0][0]']\n",
            " hNormalization)                                                                                  \n",
            "                                                                                                  \n",
            " re_lu_414 (ReLU)               (None, 23, 23, 128)  0           ['batchNorm3IdentityConv1B[0][0]'\n",
            "                                                                 ]                                \n",
            "                                                                                                  \n",
            " resBlock3IdentityConv1C (Conv2  (None, 23, 23, 512)  66048      ['re_lu_414[0][0]']              \n",
            " D)                                                                                               \n",
            "                                                                                                  \n",
            " batchNorm3IdentityConv1C (Batc  (None, 23, 23, 512)  2048       ['resBlock3IdentityConv1C[0][0]']\n",
            " hNormalization)                                                                                  \n",
            "                                                                                                  \n",
            " add_124 (Add)                  (None, 23, 23, 512)  0           ['batchNorm3IdentityConv1C[0][0]'\n",
            "                                                                 , 're_lu_412[0][0]']             \n",
            "                                                                                                  \n",
            " re_lu_415 (ReLU)               (None, 23, 23, 512)  0           ['add_124[0][0]']                \n",
            "                                                                                                  \n",
            " resBlock3IdentityConv2A (Conv2  (None, 23, 23, 128)  65664      ['re_lu_415[0][0]']              \n",
            " D)                                                                                               \n",
            "                                                                                                  \n",
            " batchNorm3IdentityConv2A (Batc  (None, 23, 23, 128)  512        ['resBlock3IdentityConv2A[0][0]']\n",
            " hNormalization)                                                                                  \n",
            "                                                                                                  \n",
            " re_lu_416 (ReLU)               (None, 23, 23, 128)  0           ['batchNorm3IdentityConv2A[0][0]'\n",
            "                                                                 ]                                \n",
            "                                                                                                  \n",
            " resBlock3IdentityConv2B (Conv2  (None, 23, 23, 128)  147584     ['re_lu_416[0][0]']              \n",
            " D)                                                                                               \n",
            "                                                                                                  \n",
            " batchNorm3IdentityConv2B (Batc  (None, 23, 23, 128)  512        ['resBlock3IdentityConv2B[0][0]']\n",
            " hNormalization)                                                                                  \n",
            "                                                                                                  \n",
            " re_lu_417 (ReLU)               (None, 23, 23, 128)  0           ['batchNorm3IdentityConv2B[0][0]'\n",
            "                                                                 ]                                \n",
            "                                                                                                  \n",
            " resBlock3IdentityConv2C (Conv2  (None, 23, 23, 512)  66048      ['re_lu_417[0][0]']              \n",
            " D)                                                                                               \n",
            "                                                                                                  \n",
            " batchNorm3IdentityConv2C (Batc  (None, 23, 23, 512)  2048       ['resBlock3IdentityConv2C[0][0]']\n",
            " hNormalization)                                                                                  \n",
            "                                                                                                  \n",
            " add_125 (Add)                  (None, 23, 23, 512)  0           ['batchNorm3IdentityConv2C[0][0]'\n",
            "                                                                 , 're_lu_415[0][0]']             \n",
            "                                                                                                  \n",
            " re_lu_418 (ReLU)               (None, 23, 23, 512)  0           ['add_125[0][0]']                \n",
            "                                                                                                  \n",
            " resBlock3IdentityConv3A (Conv2  (None, 23, 23, 128)  65664      ['re_lu_418[0][0]']              \n",
            " D)                                                                                               \n",
            "                                                                                                  \n",
            " batchNorm3IdentityConv3A (Batc  (None, 23, 23, 128)  512        ['resBlock3IdentityConv3A[0][0]']\n",
            " hNormalization)                                                                                  \n",
            "                                                                                                  \n",
            " re_lu_419 (ReLU)               (None, 23, 23, 128)  0           ['batchNorm3IdentityConv3A[0][0]'\n",
            "                                                                 ]                                \n",
            "                                                                                                  \n",
            " resBlock3IdentityConv3B (Conv2  (None, 23, 23, 128)  147584     ['re_lu_419[0][0]']              \n",
            " D)                                                                                               \n",
            "                                                                                                  \n",
            " batchNorm3IdentityConv3B (Batc  (None, 23, 23, 128)  512        ['resBlock3IdentityConv3B[0][0]']\n",
            " hNormalization)                                                                                  \n",
            "                                                                                                  \n",
            " re_lu_420 (ReLU)               (None, 23, 23, 128)  0           ['batchNorm3IdentityConv3B[0][0]'\n",
            "                                                                 ]                                \n",
            "                                                                                                  \n",
            " resBlock3IdentityConv3C (Conv2  (None, 23, 23, 512)  66048      ['re_lu_420[0][0]']              \n",
            " D)                                                                                               \n",
            "                                                                                                  \n",
            " batchNorm3IdentityConv3C (Batc  (None, 23, 23, 512)  2048       ['resBlock3IdentityConv3C[0][0]']\n",
            " hNormalization)                                                                                  \n",
            "                                                                                                  \n",
            " add_126 (Add)                  (None, 23, 23, 512)  0           ['batchNorm3IdentityConv3C[0][0]'\n",
            "                                                                 , 're_lu_418[0][0]']             \n",
            "                                                                                                  \n",
            " re_lu_421 (ReLU)               (None, 23, 23, 512)  0           ['add_126[0][0]']                \n",
            "                                                                                                  \n",
            " resBlock4ConvA (Conv2D)        (None, 12, 12, 256)  131328      ['re_lu_421[0][0]']              \n",
            "                                                                                                  \n",
            " batchNorm4ConvA (BatchNormaliz  (None, 12, 12, 256)  1024       ['resBlock4ConvA[0][0]']         \n",
            " ation)                                                                                           \n",
            "                                                                                                  \n",
            " re_lu_422 (ReLU)               (None, 12, 12, 256)  0           ['batchNorm4ConvA[0][0]']        \n",
            "                                                                                                  \n",
            " resBlock4ConvB (Conv2D)        (None, 12, 12, 256)  590080      ['re_lu_422[0][0]']              \n",
            "                                                                                                  \n",
            " batchNorm4ConvB (BatchNormaliz  (None, 12, 12, 256)  1024       ['resBlock4ConvB[0][0]']         \n",
            " ation)                                                                                           \n",
            "                                                                                                  \n",
            " re_lu_423 (ReLU)               (None, 12, 12, 256)  0           ['batchNorm4ConvB[0][0]']        \n",
            "                                                                                                  \n",
            " resBlock4ConvC (Conv2D)        (None, 12, 12, 1024  263168      ['re_lu_423[0][0]']              \n",
            "                                )                                                                 \n",
            "                                                                                                  \n",
            " resBlock4Copy (Conv2D)         (None, 12, 12, 1024  525312      ['re_lu_421[0][0]']              \n",
            "                                )                                                                 \n",
            "                                                                                                  \n",
            " batchNorm4ConvC (BatchNormaliz  (None, 12, 12, 1024  4096       ['resBlock4ConvC[0][0]']         \n",
            " ation)                         )                                                                 \n",
            "                                                                                                  \n",
            " batchNorm4Copy (BatchNormaliza  (None, 12, 12, 1024  4096       ['resBlock4Copy[0][0]']          \n",
            " tion)                          )                                                                 \n",
            "                                                                                                  \n",
            " add_127 (Add)                  (None, 12, 12, 1024  0           ['batchNorm4ConvC[0][0]',        \n",
            "                                )                                 'batchNorm4Copy[0][0]']         \n",
            "                                                                                                  \n",
            " re_lu_424 (ReLU)               (None, 12, 12, 1024  0           ['add_127[0][0]']                \n",
            "                                )                                                                 \n",
            "                                                                                                  \n",
            " resBlock4IdentityConv4A (Conv2  (None, 12, 12, 256)  262400     ['re_lu_424[0][0]']              \n",
            " D)                                                                                               \n",
            "                                                                                                  \n",
            " batchNorm4IdentityConv4A (Batc  (None, 12, 12, 256)  1024       ['resBlock4IdentityConv4A[0][0]']\n",
            " hNormalization)                                                                                  \n",
            "                                                                                                  \n",
            " re_lu_425 (ReLU)               (None, 12, 12, 256)  0           ['batchNorm4IdentityConv4A[0][0]'\n",
            "                                                                 ]                                \n",
            "                                                                                                  \n",
            " resBlock4IdentityConv4B (Conv2  (None, 12, 12, 256)  590080     ['re_lu_425[0][0]']              \n",
            " D)                                                                                               \n",
            "                                                                                                  \n",
            " batchNorm4IdentityConv4B (Batc  (None, 12, 12, 256)  1024       ['resBlock4IdentityConv4B[0][0]']\n",
            " hNormalization)                                                                                  \n",
            "                                                                                                  \n",
            " re_lu_426 (ReLU)               (None, 12, 12, 256)  0           ['batchNorm4IdentityConv4B[0][0]'\n",
            "                                                                 ]                                \n",
            "                                                                                                  \n",
            " resBlock4IdentityConv4C (Conv2  (None, 12, 12, 1024  263168     ['re_lu_426[0][0]']              \n",
            " D)                             )                                                                 \n",
            "                                                                                                  \n",
            " batchNorm4IdentityConv4C (Batc  (None, 12, 12, 1024  4096       ['resBlock4IdentityConv4C[0][0]']\n",
            " hNormalization)                )                                                                 \n",
            "                                                                                                  \n",
            " add_128 (Add)                  (None, 12, 12, 1024  0           ['batchNorm4IdentityConv4C[0][0]'\n",
            "                                )                                , 're_lu_424[0][0]']             \n",
            "                                                                                                  \n",
            " re_lu_427 (ReLU)               (None, 12, 12, 1024  0           ['add_128[0][0]']                \n",
            "                                )                                                                 \n",
            "                                                                                                  \n",
            " resBlock4IdentityConv5A (Conv2  (None, 12, 12, 256)  262400     ['re_lu_427[0][0]']              \n",
            " D)                                                                                               \n",
            "                                                                                                  \n",
            " batchNorm4IdentityConv5A (Batc  (None, 12, 12, 256)  1024       ['resBlock4IdentityConv5A[0][0]']\n",
            " hNormalization)                                                                                  \n",
            "                                                                                                  \n",
            " re_lu_428 (ReLU)               (None, 12, 12, 256)  0           ['batchNorm4IdentityConv5A[0][0]'\n",
            "                                                                 ]                                \n",
            "                                                                                                  \n",
            " resBlock4IdentityConv5B (Conv2  (None, 12, 12, 256)  590080     ['re_lu_428[0][0]']              \n",
            " D)                                                                                               \n",
            "                                                                                                  \n",
            " batchNorm4IdentityConv5B (Batc  (None, 12, 12, 256)  1024       ['resBlock4IdentityConv5B[0][0]']\n",
            " hNormalization)                                                                                  \n",
            "                                                                                                  \n",
            " re_lu_429 (ReLU)               (None, 12, 12, 256)  0           ['batchNorm4IdentityConv5B[0][0]'\n",
            "                                                                 ]                                \n",
            "                                                                                                  \n",
            " resBlock4IdentityConv5C (Conv2  (None, 12, 12, 1024  263168     ['re_lu_429[0][0]']              \n",
            " D)                             )                                                                 \n",
            "                                                                                                  \n",
            " batchNorm4IdentityConv5C (Batc  (None, 12, 12, 1024  4096       ['resBlock4IdentityConv5C[0][0]']\n",
            " hNormalization)                )                                                                 \n",
            "                                                                                                  \n",
            " add_129 (Add)                  (None, 12, 12, 1024  0           ['batchNorm4IdentityConv5C[0][0]'\n",
            "                                )                                , 're_lu_427[0][0]']             \n",
            "                                                                                                  \n",
            " re_lu_430 (ReLU)               (None, 12, 12, 1024  0           ['add_129[0][0]']                \n",
            "                                )                                                                 \n",
            "                                                                                                  \n",
            " resBlock4IdentityConv6A (Conv2  (None, 12, 12, 256)  262400     ['re_lu_430[0][0]']              \n",
            " D)                                                                                               \n",
            "                                                                                                  \n",
            " batchNorm4IdentityConv6A (Batc  (None, 12, 12, 256)  1024       ['resBlock4IdentityConv6A[0][0]']\n",
            " hNormalization)                                                                                  \n",
            "                                                                                                  \n",
            " re_lu_431 (ReLU)               (None, 12, 12, 256)  0           ['batchNorm4IdentityConv6A[0][0]'\n",
            "                                                                 ]                                \n",
            "                                                                                                  \n",
            " resBlock4IdentityConv6B (Conv2  (None, 12, 12, 256)  590080     ['re_lu_431[0][0]']              \n",
            " D)                                                                                               \n",
            "                                                                                                  \n",
            " batchNorm4IdentityConv6B (Batc  (None, 12, 12, 256)  1024       ['resBlock4IdentityConv6B[0][0]']\n",
            " hNormalization)                                                                                  \n",
            "                                                                                                  \n",
            " re_lu_432 (ReLU)               (None, 12, 12, 256)  0           ['batchNorm4IdentityConv6B[0][0]'\n",
            "                                                                 ]                                \n",
            "                                                                                                  \n",
            " resBlock4IdentityConv6C (Conv2  (None, 12, 12, 1024  263168     ['re_lu_432[0][0]']              \n",
            " D)                             )                                                                 \n",
            "                                                                                                  \n",
            " batchNorm4IdentityConv6C (Batc  (None, 12, 12, 1024  4096       ['resBlock4IdentityConv6C[0][0]']\n",
            " hNormalization)                )                                                                 \n",
            "                                                                                                  \n",
            " add_130 (Add)                  (None, 12, 12, 1024  0           ['batchNorm4IdentityConv6C[0][0]'\n",
            "                                )                                , 're_lu_430[0][0]']             \n",
            "                                                                                                  \n",
            " re_lu_433 (ReLU)               (None, 12, 12, 1024  0           ['add_130[0][0]']                \n",
            "                                )                                                                 \n",
            "                                                                                                  \n",
            " resBlock4IdentityConv7A (Conv2  (None, 12, 12, 256)  262400     ['re_lu_433[0][0]']              \n",
            " D)                                                                                               \n",
            "                                                                                                  \n",
            " batchNorm4IdentityConv7A (Batc  (None, 12, 12, 256)  1024       ['resBlock4IdentityConv7A[0][0]']\n",
            " hNormalization)                                                                                  \n",
            "                                                                                                  \n",
            " re_lu_434 (ReLU)               (None, 12, 12, 256)  0           ['batchNorm4IdentityConv7A[0][0]'\n",
            "                                                                 ]                                \n",
            "                                                                                                  \n",
            " resBlock4IdentityConv7B (Conv2  (None, 12, 12, 1024  2360320    ['re_lu_434[0][0]']              \n",
            " D)                             )                                                                 \n",
            "                                                                                                  \n",
            " batchNorm4IdentityConv7B (Batc  (None, 12, 12, 1024  4096       ['resBlock4IdentityConv7B[0][0]']\n",
            " hNormalization)                )                                                                 \n",
            "                                                                                                  \n",
            " re_lu_435 (ReLU)               (None, 12, 12, 1024  0           ['batchNorm4IdentityConv7B[0][0]'\n",
            "                                )                                ]                                \n",
            "                                                                                                  \n",
            " resBlock4IdentityConv7C (Conv2  (None, 12, 12, 1024  1049600    ['re_lu_435[0][0]']              \n",
            " D)                             )                                                                 \n",
            "                                                                                                  \n",
            " batchNorm4IdentityConv7C (Batc  (None, 12, 12, 1024  4096       ['resBlock4IdentityConv7C[0][0]']\n",
            " hNormalization)                )                                                                 \n",
            "                                                                                                  \n",
            " add_131 (Add)                  (None, 12, 12, 1024  0           ['batchNorm4IdentityConv7C[0][0]'\n",
            "                                )                                , 're_lu_433[0][0]']             \n",
            "                                                                                                  \n",
            " re_lu_436 (ReLU)               (None, 12, 12, 1024  0           ['add_131[0][0]']                \n",
            "                                )                                                                 \n",
            "                                                                                                  \n",
            " resBlock4IdentityConv8A (Conv2  (None, 12, 12, 256)  262400     ['re_lu_436[0][0]']              \n",
            " D)                                                                                               \n",
            "                                                                                                  \n",
            " batchNorm4IdentityConv8A (Batc  (None, 12, 12, 256)  1024       ['resBlock4IdentityConv8A[0][0]']\n",
            " hNormalization)                                                                                  \n",
            "                                                                                                  \n",
            " re_lu_437 (ReLU)               (None, 12, 12, 256)  0           ['batchNorm4IdentityConv8A[0][0]'\n",
            "                                                                 ]                                \n",
            "                                                                                                  \n",
            " resBlock4IdentityConv8B (Conv2  (None, 12, 12, 256)  590080     ['re_lu_437[0][0]']              \n",
            " D)                                                                                               \n",
            "                                                                                                  \n",
            " batchNorm4IdentityConv8B (Batc  (None, 12, 12, 256)  1024       ['resBlock4IdentityConv8B[0][0]']\n",
            " hNormalization)                                                                                  \n",
            "                                                                                                  \n",
            " re_lu_438 (ReLU)               (None, 12, 12, 256)  0           ['batchNorm4IdentityConv8B[0][0]'\n",
            "                                                                 ]                                \n",
            "                                                                                                  \n",
            " resBlock4IdentityConv8C (Conv2  (None, 12, 12, 1024  263168     ['re_lu_438[0][0]']              \n",
            " D)                             )                                                                 \n",
            "                                                                                                  \n",
            " batchNorm4IdentityConv8C (Batc  (None, 12, 12, 1024  4096       ['resBlock4IdentityConv8C[0][0]']\n",
            " hNormalization)                )                                                                 \n",
            "                                                                                                  \n",
            " add_132 (Add)                  (None, 12, 12, 1024  0           ['batchNorm4IdentityConv8C[0][0]'\n",
            "                                )                                , 're_lu_436[0][0]']             \n",
            "                                                                                                  \n",
            " re_lu_439 (ReLU)               (None, 12, 12, 1024  0           ['add_132[0][0]']                \n",
            "                                )                                                                 \n",
            "                                                                                                  \n",
            " resBlock5ConvA (Conv2D)        (None, 6, 6, 512)    524800      ['re_lu_439[0][0]']              \n",
            "                                                                                                  \n",
            " batchNorm5ConvA (BatchNormaliz  (None, 6, 6, 512)   2048        ['resBlock5ConvA[0][0]']         \n",
            " ation)                                                                                           \n",
            "                                                                                                  \n",
            " re_lu_440 (ReLU)               (None, 6, 6, 512)    0           ['batchNorm5ConvA[0][0]']        \n",
            "                                                                                                  \n",
            " resBlock5ConvB (Conv2D)        (None, 6, 6, 512)    2359808     ['re_lu_440[0][0]']              \n",
            "                                                                                                  \n",
            " batchNorm5ConvB (BatchNormaliz  (None, 6, 6, 512)   2048        ['resBlock5ConvB[0][0]']         \n",
            " ation)                                                                                           \n",
            "                                                                                                  \n",
            " re_lu_441 (ReLU)               (None, 6, 6, 512)    0           ['batchNorm5ConvB[0][0]']        \n",
            "                                                                                                  \n",
            " resBlock5ConvC (Conv2D)        (None, 6, 6, 2048)   1050624     ['re_lu_441[0][0]']              \n",
            "                                                                                                  \n",
            " resBlock5Copy (Conv2D)         (None, 6, 6, 2048)   2099200     ['re_lu_439[0][0]']              \n",
            "                                                                                                  \n",
            " batchNorm5ConvC (BatchNormaliz  (None, 6, 6, 2048)  8192        ['resBlock5ConvC[0][0]']         \n",
            " ation)                                                                                           \n",
            "                                                                                                  \n",
            " batchNorm5Copy (BatchNormaliza  (None, 6, 6, 2048)  8192        ['resBlock5Copy[0][0]']          \n",
            " tion)                                                                                            \n",
            "                                                                                                  \n",
            " add_133 (Add)                  (None, 6, 6, 2048)   0           ['batchNorm5ConvC[0][0]',        \n",
            "                                                                  'batchNorm5Copy[0][0]']         \n",
            "                                                                                                  \n",
            " re_lu_442 (ReLU)               (None, 6, 6, 2048)   0           ['add_133[0][0]']                \n",
            "                                                                                                  \n",
            " resBlock5IdentityConv9A (Conv2  (None, 6, 6, 512)   1049088     ['re_lu_442[0][0]']              \n",
            " D)                                                                                               \n",
            "                                                                                                  \n",
            " batchNorm5IdentityConv9A (Batc  (None, 6, 6, 512)   2048        ['resBlock5IdentityConv9A[0][0]']\n",
            " hNormalization)                                                                                  \n",
            "                                                                                                  \n",
            " re_lu_443 (ReLU)               (None, 6, 6, 512)    0           ['batchNorm5IdentityConv9A[0][0]'\n",
            "                                                                 ]                                \n",
            "                                                                                                  \n",
            " resBlock5IdentityConv9B (Conv2  (None, 6, 6, 512)   2359808     ['re_lu_443[0][0]']              \n",
            " D)                                                                                               \n",
            "                                                                                                  \n",
            " batchNorm5IdentityConv9B (Batc  (None, 6, 6, 512)   2048        ['resBlock5IdentityConv9B[0][0]']\n",
            " hNormalization)                                                                                  \n",
            "                                                                                                  \n",
            " re_lu_444 (ReLU)               (None, 6, 6, 512)    0           ['batchNorm5IdentityConv9B[0][0]'\n",
            "                                                                 ]                                \n",
            "                                                                                                  \n",
            " resBlock5IdentityConv9C (Conv2  (None, 6, 6, 2048)  1050624     ['re_lu_444[0][0]']              \n",
            " D)                                                                                               \n",
            "                                                                                                  \n",
            " batchNorm5IdentityConv9C (Batc  (None, 6, 6, 2048)  8192        ['resBlock5IdentityConv9C[0][0]']\n",
            " hNormalization)                                                                                  \n",
            "                                                                                                  \n",
            " add_134 (Add)                  (None, 6, 6, 2048)   0           ['batchNorm5IdentityConv9C[0][0]'\n",
            "                                                                 , 're_lu_442[0][0]']             \n",
            "                                                                                                  \n",
            " re_lu_445 (ReLU)               (None, 6, 6, 2048)   0           ['add_134[0][0]']                \n",
            "                                                                                                  \n",
            " resBlock5IdentityConv10A (Conv  (None, 6, 6, 512)   1049088     ['re_lu_445[0][0]']              \n",
            " 2D)                                                                                              \n",
            "                                                                                                  \n",
            " batchNorm5IdentityConv10A (Bat  (None, 6, 6, 512)   2048        ['resBlock5IdentityConv10A[0][0]'\n",
            " chNormalization)                                                ]                                \n",
            "                                                                                                  \n",
            " re_lu_446 (ReLU)               (None, 6, 6, 512)    0           ['batchNorm5IdentityConv10A[0][0]\n",
            "                                                                 ']                               \n",
            "                                                                                                  \n",
            " resBlock5IdentityConv10B (Conv  (None, 6, 6, 512)   2359808     ['re_lu_446[0][0]']              \n",
            " 2D)                                                                                              \n",
            "                                                                                                  \n",
            " batchNorm5IdentityConv10B (Bat  (None, 6, 6, 512)   2048        ['resBlock5IdentityConv10B[0][0]'\n",
            " chNormalization)                                                ]                                \n",
            "                                                                                                  \n",
            " re_lu_447 (ReLU)               (None, 6, 6, 512)    0           ['batchNorm5IdentityConv10B[0][0]\n",
            "                                                                 ']                               \n",
            "                                                                                                  \n",
            " resBlock5IdentityConv10C (Conv  (None, 6, 6, 2048)  1050624     ['re_lu_447[0][0]']              \n",
            " 2D)                                                                                              \n",
            "                                                                                                  \n",
            " batchNorm5IdentityConv10C (Bat  (None, 6, 6, 2048)  8192        ['resBlock5IdentityConv10C[0][0]'\n",
            " chNormalization)                                                ]                                \n",
            "                                                                                                  \n",
            " AveragePooling (AveragePooling  (None, 3, 3, 2048)  0           ['batchNorm5IdentityConv10C[0][0]\n",
            " 2D)                                                             ']                               \n",
            "                                                                                                  \n",
            " flatten_8 (Flatten)            (None, 18432)        0           ['AveragePooling[0][0]']         \n",
            "                                                                                                  \n",
            " dense_16 (Dense)               (None, 512)          9437696     ['flatten_8[0][0]']              \n",
            "                                                                                                  \n",
            " re_lu_448 (ReLU)               (None, 512)          0           ['dense_16[0][0]']               \n",
            "                                                                                                  \n",
            " dense_17 (Dense)               (None, 30)           15390       ['re_lu_448[0][0]']              \n",
            "                                                                                                  \n",
            " re_lu_449 (ReLU)               (None, 30)           0           ['dense_17[0][0]']               \n",
            "                                                                                                  \n",
            "==================================================================================================\n",
            "Total params: 35,594,270\n",
            "Trainable params: 35,539,614\n",
            "Non-trainable params: 54,656\n",
            "__________________________________________________________________________________________________\n",
            "None\n"
          ]
        }
      ]
    },
    {
      "cell_type": "markdown",
      "source": [
        "## Start Training"
      ],
      "metadata": {
        "id": "XApVSyn1fSwx"
      }
    },
    {
      "cell_type": "code",
      "source": [
        "# import os \n",
        "# os.environ['TF_KERAS'] = '1'\n",
        "\n",
        "# adam = tensorflow.keras.optimizers.Adam(learning_rate = 0.0001, beta_1 = 0.9, beta_2 = 0.999, amsgrad = False)\n",
        "# save the best model with least validation loss\n",
        "\n",
        "def run_model(pretrained=True):\n",
        "  if pretrained == False:\n",
        "    res_net50.compile(loss = \"mean_squared_error\", optimizer = 'adam', metrics = ['accuracy', 'mse'])\n",
        "    checkpoint = ModelCheckpoint(filepath = \"Best_weights.hdf5\", save_best_only=True)\n",
        "    # Train the model\n",
        "    history = res_net50.fit(X_train, y_train, epochs=250, batch_size=100, validation_split=0.05, callbacks=[checkpoint])\n",
        "  else:\n",
        "    return"
      ],
      "metadata": {
        "id": "IIyxl5mhJkxk"
      },
      "execution_count": 408,
      "outputs": []
    },
    {
      "cell_type": "code",
      "source": [
        "run_model(pretrained)"
      ],
      "metadata": {
        "id": "9y6TbtnovGSa"
      },
      "execution_count": 409,
      "outputs": []
    },
    {
      "cell_type": "markdown",
      "source": [
        "## Affine Transformations \n",
        "\n",
        "### Setting up Images & Landmarks "
      ],
      "metadata": {
        "id": "gKA6nBmKTXHA"
      }
    },
    {
      "cell_type": "code",
      "source": [
        "#for using images without scaling them down\n",
        "def im_setup(img_path, width, height):\n",
        "    im = cv2.imread(img_path, -1)\n",
        "    (h, w) = im.shape[:2]\n",
        "    im = cv2.resize(im, (width,height), interpolation = cv2.INTER_AREA)\n",
        "    im_uint8 = ((im - np.min(im)) * (1/(np.max(im) - np.min(im)) * 255)).astype('uint8')\n",
        "    RGB_im = cv2.cvtColor(im_uint8, cv2.COLOR_BGR2RGBA)\n",
        "    return RGB_im\n",
        "\n",
        "#for using images without scaling them down\n",
        "def im_setup2(img_path, width, height):\n",
        "    im = cv2.imread(img_path, -1)\n",
        "    (h, w) = im.shape[:2]\n",
        "    im = cv2.resize(im, (width,height), interpolation = cv2.INTER_AREA)\n",
        "    im_uint8 = ((im - np.min(im)) * (1/(np.max(im) - np.min(im)) * 255)).astype('uint8')\n",
        "    gray_im = cv2.cvtColor(im_uint8, cv2.COLOR_BGR2GRAY)\n",
        "    return gray_im"
      ],
      "metadata": {
        "id": "6eDlnHBWJtUS"
      },
      "execution_count": 410,
      "outputs": []
    },
    {
      "cell_type": "code",
      "source": [
        "def createLandMarks(img_type, width,height):\n",
        "    #landmarks, to be hard set on certain filters\n",
        "    landmarks = []\n",
        "    mark_vals = []\n",
        "    if(img_type == 'nose'):\n",
        "        #nose \n",
        "        landmarks.append((width//2,height *.4))\n",
        "        \n",
        "        #left lip\n",
        "        landmarks.append((.25 * width,height* .7))\n",
        "        \n",
        "        #right lip \n",
        "        landmarks.append((width - .25 * width ,height* .7 ))\n",
        "        \n",
        "        mark_vals = [10,11,12]\n",
        "        #upper lip\n",
        "        #xs.append(width//2 )\n",
        "        #ys.append(height* .7 )\n",
        "    elif(img_type == 'glasses'):\n",
        "        #left brow\n",
        "        landmarks.append((width * .15 ,height * .25 ))\n",
        "        \n",
        "        #right brow\n",
        "        landmarks.append((width * .85 ,height * .25 ))\n",
        "        \n",
        "        #nose\n",
        "        landmarks.append((width * .5 ,height ))\n",
        "        \n",
        "        mark_vals = [7,9,10]\n",
        "    elif(img_type == 'eyes'):\n",
        "        #left brow\n",
        "        landmarks.append((width * .05 ,height *.2 ))\n",
        "        \n",
        "        #outer eye left\n",
        "        landmarks.append((width * .1 ,height *.63 ))\n",
        "        \n",
        "        #inner eye left\n",
        "        landmarks.append((width * .36 ,height *.63 ))\n",
        "        \n",
        "        #inner eye right\n",
        "        landmarks.append((width * .64 ,height *.63 ))\n",
        "        \n",
        "        #outer eye right \n",
        "        landmarks.append((width * .9 ,height *.63 ))\n",
        "        \n",
        "        #right brow\n",
        "        landmarks.append((width * .95 ,height *.2 ))\n",
        "    \n",
        "        mark_vals = [7,3,0,1,5,9]\n",
        "    elif(img_type == 'mouth'):\n",
        "        \n",
        "        #left lip\n",
        "        landmarks.append((width * .05 ,height *.35 ))\n",
        "        \n",
        "        #nose\n",
        "        landmarks.append((width * .5 ,height *.02 ))\n",
        "        \n",
        "        #lower lip\n",
        "        landmarks.append((width * .5 ,height *.67 ))\n",
        "        \n",
        "        #right lip\n",
        "        landmarks.append((width * .95 ,height *.35 ))\n",
        "        \n",
        "        mark_vals = [11,10,14,12]\n",
        "        \n",
        "    elif(img_type == 'mhat'):\n",
        "        \n",
        "        #left brow\n",
        "        landmarks.append((width * .2 ,height *.75 ))\n",
        "        \n",
        "        #nose\n",
        "        landmarks.append((width * .5 ,height ))\n",
        "        \n",
        "        #right brow\n",
        "        landmarks.append((width * .8 ,height *.75))\n",
        "        \n",
        "        mark_vals = [7,10,9]\n",
        "        \n",
        "    elif(img_type == 'beard'):\n",
        "        \n",
        "        #left outer lip\n",
        "        landmarks.append((width * .35 ,height *.44 ))\n",
        "        \n",
        "        #nose\n",
        "        landmarks.append((width * .49 ,height *.27 ))\n",
        "        \n",
        "        #lower lip\n",
        "        landmarks.append((width * .49 ,height *.5 ))\n",
        "        \n",
        "        #right outer lip\n",
        "        landmarks.append((width * .65 ,height *.44))\n",
        "        \n",
        "        mark_vals = [11,10,14,12]\n",
        "        \n",
        "    elif(img_type == 'blush'):\n",
        "        \n",
        "        #left brow\n",
        "        landmarks.append((width * .05 ,height *.0 ))\n",
        "        \n",
        "        #nose\n",
        "        landmarks.append((width * .5 ,height *.67))\n",
        "        \n",
        "        #right brow\n",
        "        landmarks.append((width * .95 ,height *.0))\n",
        "        \n",
        "        mark_vals = [7,10,9]\n",
        "    \n",
        "    elif(img_type == 'squid'):\n",
        "        \n",
        "        #left inner eye\n",
        "        landmarks.append((width * .3 ,height *.4 ))\n",
        "        \n",
        "        #nose\n",
        "        landmarks.append((width * .5 ,height *.95))\n",
        "        \n",
        "        #right inner eye\n",
        "        landmarks.append((width * .7 ,height *.4))\n",
        "        \n",
        "        mark_vals = [2,13,4]\n",
        "        \n",
        "    elif(img_type == 'clown'):\n",
        "        \n",
        "        #left inner eye\n",
        "        landmarks.append((width * .25 ,height *0 ))\n",
        "        \n",
        "        #nose\n",
        "        landmarks.append((width * .55 ,height *.5))\n",
        "        \n",
        "        #right inner eye\n",
        "        landmarks.append((width * .85 ,height * 0))\n",
        "        \n",
        "        mark_vals = [2,10,4]\n",
        "        \n",
        "        \n",
        "    return landmarks,mark_vals"
      ],
      "metadata": {
        "id": "nSs5Fi3iTsvZ"
      },
      "execution_count": 411,
      "outputs": []
    },
    {
      "cell_type": "code",
      "source": [
        "filter_img = im_setup('./CV_Snap_Filter/Filter_Images/clown_nose.png', 96,96)\n",
        "lm,mv = createLandMarks('clown',96,96)\n",
        "xs =[]\n",
        "ys = []\n",
        "\n",
        "for val in lm:\n",
        "    xs.append(val[0])\n",
        "    ys.append(val[1])\n",
        "    \n",
        "plt.figure(figsize=(7, 7))\n",
        "plt.scatter(xs, ys, marker='x', color='red')\n",
        "plt.imshow(filter_img)\n",
        "\n",
        "plt.show()"
      ],
      "metadata": {
        "id": "qN6JwUhzT3HI",
        "colab": {
          "base_uri": "https://localhost:8080/",
          "height": 430
        },
        "outputId": "50d6e0a0-7106-455f-8ebe-6ea438a23ab9"
      },
      "execution_count": 412,
      "outputs": [
        {
          "output_type": "display_data",
          "data": {
            "text/plain": [
              "<Figure size 504x504 with 1 Axes>"
            ],
            "image/png": "[encoded data removed]"
          },
          "metadata": {
            "needs_background": "light"
          }
        }
      ]
    },
    {
      "cell_type": "markdown",
      "source": [
        "## Creating Our Own Affine Transformations Function and Trying it Out"
      ],
      "metadata": {
        "id": "KCnnG_fzT5w1"
      }
    },
    {
      "cell_type": "code",
      "source": [
        "#take in two sets of 3 points and figure out the affine matrix\n",
        "class InvalidArraySizes(Exception):\n",
        "    pass\n",
        "def affine_transform_mat(sor,dest):\n",
        "    #errors that could be defined \n",
        "    outMat = [[0,0,0],[0,0,0]]\n",
        "    b = []\n",
        "    A = []\n",
        "    try:\n",
        "        if(len(sor) != len(dest)): #c1 and c2 must have the same amount of points\n",
        "            raise InvalidArraySizes('There must be the same amount of points in both arrays')\n",
        "        if(len(sor) < 3):\n",
        "            raise InvalidArraySizes('source array must have a size of 3 or more')\n",
        "        if(len(dest) < 3):\n",
        "            raise InvalidArraySizes('destination array must have a size of 3 or more')\n",
        "    except InvalidArraySizes as e: \n",
        "        print(\"Error\",e)\n",
        "        return 0\n",
        "    #setup matricies for Least Squares Error\n",
        "    for i in range(0, len(sor)):\n",
        "        #set up b\n",
        "        b.append([dest[i][0]])\n",
        "        b.append([dest[i][1]])\n",
        "        \n",
        "        #we can assume sor and dest have the same number of points, so set up A here as well\n",
        "        #format: [xi,yi,1,0,0,0], [0,0,0,xi,yi,1]\n",
        "        A.append([sor[i][0],sor[i][1],1,0,0,0])\n",
        "        A.append([0,0,0,sor[i][0],sor[i][1],1])\n",
        "    b_np = np.array(b)\n",
        "    A_np = np.array(A)\n",
        "    #Least Likely Square Equation\n",
        "    #Equation: affine vars = (A^t * A)^-1 * A^t  * B\n",
        "    \n",
        "    A_trans = np.transpose(A_np)\n",
        "    inter = np.matmul(A_trans,A_np)\n",
        "    inverse = np.linalg.inv(inter)\n",
        "    final = np.matmul(np.matmul(inverse,A_trans),b_np).reshape(2,3)\n",
        "    \n",
        "    \n",
        "    \n",
        "    return final"
      ],
      "metadata": {
        "id": "aci2mBXRT4tf"
      },
      "execution_count": 413,
      "outputs": []
    },
    {
      "cell_type": "markdown",
      "source": [
        "## Putting Affine Transformation & Overlay Together"
      ],
      "metadata": {
        "id": "AxZLAITUUHZs"
      }
    },
    {
      "cell_type": "code",
      "source": [
        "#A function that takes in original image, the facial landmarks of the original image,\n",
        "#and the type of filter to create a new image with the filters overlaying the landmarks\n",
        "\n",
        "#FORMAT OF FUNCTION: INPUT: face_image converted to RGBA format, \n",
        "#landmarks in an array with x,y tuples ex: [(x1,y1),(x2,y2)...(xn,yn)]\n",
        "#filter type is an int ranging from 0-4\n",
        "def SCFilterOverlay(face_img, face_lm, filter_type):\n",
        "    #variables \n",
        "    filter_lm = []\n",
        "    filter_img = []\n",
        "    \n",
        "    face_lm_ind = []\n",
        "    important_face_lm = []\n",
        "    \n",
        "    face_width, face_height = face_img.shape[:2]\n",
        "    filter_width,filter_height = 0,0\n",
        "    \n",
        "    final_img = face_img.copy()\n",
        "    \n",
        "    \n",
        "    if(filter_type == 0): #nose\n",
        "        filter_img = im_setup('./CV_Snap_Filter/Filter_Images/Luigi_Stache.png', face_width,face_height)\n",
        "        filter_width,filter_height = filter_img.shape[:2]\n",
        "        filter_lm,face_lm_ind = createLandMarks('nose',filter_width, filter_height)\n",
        "    \n",
        "    elif(filter_type == 1): #glasses\n",
        "        filter_img = im_setup('./CV_Snap_Filter/Filter_Images/HP_Glasses.png', face_width,face_height)\n",
        "        filter_width,filter_height = filter_img.shape[:2]\n",
        "        filter_lm,face_lm_ind = createLandMarks('glasses',filter_width, filter_height)\n",
        "    \n",
        "    elif(filter_type == 2): #eyes\n",
        "        filter_img = im_setup('./CV_Snap_Filter/Filter_Images/Eyes.png', face_width,face_height)\n",
        "        filter_width,filter_height = filter_img.shape[:2]\n",
        "        filter_lm,face_lm_ind = createLandMarks('eyes',filter_width, filter_height)\n",
        "    \n",
        "    elif(filter_type == 3): #mouth\n",
        "        filter_img = im_setup('./CV_Snap_Filter/Filter_Images/Binky.png', face_width,face_height)\n",
        "        filter_width,filter_height = filter_img.shape[:2]\n",
        "        filter_lm,face_lm_ind = createLandMarks('mouth',filter_width, filter_height)\n",
        "    \n",
        "    elif(filter_type == 4): #hat\n",
        "        filter_img = im_setup('./CV_Snap_Filter/Filter_Images/Mario_Hat.png', face_width,face_height)\n",
        "        filter_width,filter_height = filter_img.shape[:2]\n",
        "        filter_lm,face_lm_ind = createLandMarks('mhat',filter_width, filter_height)\n",
        "        \n",
        "    elif(filter_type == 5): #beard\n",
        "        filter_img = im_setup('./CV_Snap_Filter/Filter_Images/beard.png', face_width,face_height)\n",
        "        filter_width,filter_height = filter_img.shape[:2]\n",
        "        filter_lm,face_lm_ind = createLandMarks('beard',filter_width, filter_height)\n",
        "        \n",
        "    elif(filter_type == 6): #blush\n",
        "        filter_img = im_setup('./CV_Snap_Filter/Filter_Images/Blush.png', face_width,face_height)\n",
        "        filter_width,filter_height = filter_img.shape[:2]\n",
        "        filter_lm,face_lm_ind = createLandMarks('blush',filter_width, filter_height)\n",
        "    \n",
        "    elif(filter_type == 7): #squid\n",
        "        filter_img = im_setup('./CV_Snap_Filter/Filter_Images/squidward_nose.png', face_width,face_height)\n",
        "        filter_width,filter_height = filter_img.shape[:2]\n",
        "        filter_lm,face_lm_ind = createLandMarks('squid',filter_width, filter_height)\n",
        "        \n",
        "    elif(filter_type == 8): #clown\n",
        "        filter_img = im_setup('./CV_Snap_Filter/Filter_Images/clown_nose.png', face_width,face_height)\n",
        "        filter_width,filter_height = filter_img.shape[:2]\n",
        "        filter_lm,face_lm_ind = createLandMarks('clown',filter_width, filter_height)\n",
        "        \n",
        "    #fill in important face landmarks array using array\n",
        "    \n",
        "    for ind in face_lm_ind:\n",
        "        important_face_lm.append( (face_lm[ind][0],face_lm[ind][1]) ) \n",
        "    \n",
        "    #find affine transformation of two landmarks\n",
        "    trans_mat = affine_transform_mat(filter_lm,important_face_lm)\n",
        "    \n",
        "    #warp filter image\n",
        "    new_filt_img = cv2.warpAffine(filter_img, trans_mat, (face_width,face_height))\n",
        "    \n",
        "    #overlay image\n",
        "    # normalize alpha channels\n",
        "    background = final_img[:,:,3] / 255.0\n",
        "    foreground = new_filt_img[:,:,3] / 255.0\n",
        "        \n",
        "    # set adjusted colors\n",
        "    for color in range(0, 3):\n",
        "        final_img[:,:,color] = foreground * new_filt_img[:,:,color] + \\\n",
        "        background * final_img[:,:,color] * (1 - foreground)\n",
        "    # set adjusted alpha and denormalize back to 0-255\n",
        "    final_img[:,:,3] = (1 - (1 - foreground) * (1 - background)) * 255\n",
        "        \n",
        "    \n",
        "    return final_img"
      ],
      "metadata": {
        "id": "JSFBPCcEUGil"
      },
      "execution_count": 414,
      "outputs": []
    },
    {
      "cell_type": "markdown",
      "source": [
        "## Testing out SCFilterOverlay() Function\n",
        "\n",
        "# Show Filter on Image\n"
      ],
      "metadata": {
        "id": "mB9U8UahUPZo"
      }
    },
    {
      "cell_type": "code",
      "source": [
        "def get_predictions(image, model_path='./Best_weights.hdf5'):\n",
        "  img = im_setup2(image, 96, 96)\n",
        "  test_new = img.reshape(-1, 96, 96, 1)\n",
        "\n",
        "  model_best = tf.keras.models.load_model(model_path)\n",
        "  test_pred = model_best.predict(test_new)\n",
        "\n",
        "  return test_new, test_pred"
      ],
      "metadata": {
        "id": "wjbNF2ZNUO0k"
      },
      "execution_count": 415,
      "outputs": []
    },
    {
      "cell_type": "code",
      "source": [
        "### CHANGE VARIABLES IN THIS CELL ###\n",
        "\n",
        "#filter var\n",
        "filter = 0\n",
        "#IF YOU WANT TO ADD MORE FILTERS, YOU MUST CREATE MORE FILTER VARIABLES\n",
        "filter1 = 6\n",
        "\n",
        "#model path\n",
        "model_path = './Best_weights.hdf5'\n",
        "\n",
        "#filter image path\n",
        "test_img_path = './CV_Snap_Filter/Test_Images/Caitlyn.png'\n",
        "\n"
      ],
      "metadata": {
        "id": "soJA1Be8vFK7"
      },
      "execution_count": 416,
      "outputs": []
    },
    {
      "cell_type": "code",
      "source": [
        "#Set up image & show original face img\n",
        "test_img = im_setup(test_img_path, 96,96)\n",
        "plt.imshow(test_img)"
      ],
      "metadata": {
        "id": "1qKnS3XzXaJl",
        "colab": {
          "base_uri": "https://localhost:8080/",
          "height": 286
        },
        "outputId": "5a4a27bf-ede9-4a03-f5db-9e872f7db9bb"
      },
      "execution_count": 417,
      "outputs": [
        {
          "output_type": "execute_result",
          "data": {
            "text/plain": [
              "<matplotlib.image.AxesImage at 0x7f09b1c8ce50>"
            ]
          },
          "metadata": {},
          "execution_count": 417
        },
        {
          "output_type": "display_data",
          "data": {
            "text/plain": [
              "<Figure size 432x288 with 1 Axes>"
            ],
            "image/png": "[encoded data removed]"
          },
          "metadata": {
            "needs_background": "light"
          }
        }
      ]
    },
    {
      "cell_type": "code",
      "source": [
        "\n",
        "img, pred = get_predictions(test_img_path,model_path)\n",
        "plt.figure(figsize=(7,7))\n",
        "\n",
        "plt.imshow(img[0].reshape(96,96),cmap='gray')\n",
        "xs = pred[0][0::2]\n",
        "ys = pred[0][1::2]\n",
        "plt.scatter(xs, ys, marker='x', color='blue')\n",
        "\n",
        "plt.show()"
      ],
      "metadata": {
        "id": "OI9Jo61q38Jo",
        "colab": {
          "base_uri": "https://localhost:8080/",
          "height": 430
        },
        "outputId": "05cd84e8-7dad-4ffd-8871-376da8281266"
      },
      "execution_count": 418,
      "outputs": [
        {
          "output_type": "display_data",
          "data": {
            "text/plain": [
              "<Figure size 504x504 with 1 Axes>"
            ],
            "image/png": "[encoded data removed]"
          },
          "metadata": {
            "needs_background": "light"
          }
        }
      ]
    },
    {
      "cell_type": "code",
      "source": [
        "lm = []\n",
        "for i in range(0, len(xs)):\n",
        "  lm.append((xs[i],ys[i]))\n",
        "\n",
        "new_im = SCFilterOverlay(test_img,lm,filter)\n",
        "new_im2 = SCFilterOverlay(new_im,lm,filter1)"
      ],
      "metadata": {
        "id": "m3nTBW_A7Opo"
      },
      "execution_count": 419,
      "outputs": []
    },
    {
      "cell_type": "code",
      "source": [
        "plt.figure(figsize=(7, 7))\n",
        "plt.imshow(new_im2)"
      ],
      "metadata": {
        "id": "oMoDpIvQ4gX_",
        "colab": {
          "base_uri": "https://localhost:8080/",
          "height": 448
        },
        "outputId": "da1cccf6-68b9-42b0-b555-86b534e47c5b"
      },
      "execution_count": 420,
      "outputs": [
        {
          "output_type": "execute_result",
          "data": {
            "text/plain": [
              "<matplotlib.image.AxesImage at 0x7f0a0046a810>"
            ]
          },
          "metadata": {},
          "execution_count": 420
        },
        {
          "output_type": "display_data",
          "data": {
            "text/plain": [
              "<Figure size 504x504 with 1 Axes>"
            ],
            "image/png": "[encoded data removed]"
          },
          "metadata": {
            "needs_background": "light"
          }
        }
      ]
    }
  ]
}